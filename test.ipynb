{
 "cells": [
  {
   "cell_type": "code",
   "execution_count": 1,
   "metadata": {},
   "outputs": [
    {
     "name": "stderr",
     "output_type": "stream",
     "text": [
      "'apt-get' is not recognized as an internal or external command,\n",
      "operable program or batch file.\n"
     ]
    },
    {
     "name": "stdout",
     "output_type": "stream",
     "text": [
      "nvcc fatal   : Unknown option '--cflags'\n"
     ]
    },
    {
     "name": "stderr",
     "output_type": "stream",
     "text": [
      "'.' is not recognized as an internal or external command,\n",
      "operable program or batch file.\n"
     ]
    }
   ],
   "source": [
    "!apt-get -qq install -y libopencv-dev\n",
    "!nvcc -o output kernel.cu `pkg-config --cflags --libs opencv4`\n",
    "!./output"
   ]
  },
  {
   "cell_type": "code",
   "execution_count": null,
   "metadata": {},
   "outputs": [
    {
     "name": "stdout",
     "output_type": "stream",
     "text": [
      "Một hình ảnh với nhãn 4 đã được lưu với kích thước 20x20 và tên 'drawn_image.png'\n"
     ]
    },
    {
     "data": {
      "image/png": "[encoded data removed]",
      "text/plain": [
       "<Figure size 640x480 with 1 Axes>"
      ]
     },
     "metadata": {},
     "output_type": "display_data"
    }
   ],
   "source": [
    "# Import thư viện cần thiết\n",
    "import numpy as np\n",
    "import matplotlib.pyplot as plt\n",
    "from tensorflow.keras.datasets import mnist\n",
    "from PIL import Image\n",
    "\n",
    "# Tải bộ dữ liệu MNIST\n",
    "(x_train, y_train), (x_test, y_test) = mnist.load_data()\n",
    "\n",
    "# Chọn một nhãn ngẫu nhiên từ tập dữ liệu (ví dụ: chọn nhãn 3)\n",
    "#selected_label = 3  # Bạn có thể thay đổi nhãn tùy ý\n",
    "\n",
    "# Random ngẫu nhiên\n",
    "selected_label = np.random.randint(0, 10)\n",
    "\n",
    "# Tìm tất cả các chỉ mục có nhãn được chọn\n",
    "indices_with_selected_label = np.where(y_train == selected_label)[0]\n",
    "\n",
    "# Chọn một chỉ mục ngẫu nhiên từ tập hợp các chỉ mục có nhãn được chọn\n",
    "random_index_with_selected_label = np.random.choice(indices_with_selected_label)\n",
    "\n",
    "# Hiển thị hình ảnh\n",
    "plt.imshow(x_train[random_index_with_selected_label], cmap='gray')\n",
    "plt.title(f'Label: {y_train[random_index_with_selected_label]}')\n",
    "plt.axis('off')\n",
    "\n",
    "# Chỉnh kích thước hình ảnh thành 20x20\n",
    "img = Image.fromarray(x_train[random_index_with_selected_label])\n",
    "img = img.resize((28, 28))\n",
    "\n",
    "# Lưu hình ảnh có kích thước 20x20 với tên 'random_image_with_selected_label.png'\n",
    "img.save('drawn_image.png')\n",
    "\n",
    "# Hiển thị thông báo hoàn thành\n",
    "print(f\"Một hình ảnh với nhãn {selected_label} đã được lưu với kích thước 28x228 và tên 'drawn_image.png'\")\n",
    "# Nếu bạn muốn hiển thị hình ảnh trực tiếp trên notebook sau khi lưu, thực hiện plt.show() sau plt.savefig()\n",
    "plt.show()"
   ]
  },
  {
   "cell_type": "code",
   "execution_count": 5,
   "metadata": {},
   "outputs": [
    {
     "name": "stdout",
     "output_type": "stream",
     "text": [
      "C:/Users/dell/opencv/build/include\\opencv2/stitching/detail/warpers.hpp(235): warning: overloaded virtual function \"cv::detail::PlaneWarper::buildMaps\" is only partially overridden in class \"cv::detail::AffineWarper\"\n",
      "\n",
      "C:/Users/dell/opencv/build/include\\opencv2/stitching/detail/warpers.hpp(235): warning: overloaded virtual function \"cv::detail::PlaneWarper::warp\" is only partially overridden in class \"cv::detail::AffineWarper\"\n",
      "\n",
      "C:/Users/dell/opencv/build/include\\opencv2/stitching/detail/blenders.hpp(100): warning: overloaded virtual function \"cv::detail::Blender::prepare\" is only partially overridden in class \"cv::detail::FeatherBlender\"\n",
      "\n",
      "C:/Users/dell/opencv/build/include\\opencv2/stitching/detail/blenders.hpp(127): warning: overloaded virtual function \"cv::detail::Blender::prepare\" is only partially overridden in class \"cv::detail::MultiBandBlender\"\n",
      "\n",
      "kernel.cu(175): warning: expression must be a pointer to a complete object type\n",
      "\n",
      "kernel.cu(176): warning: expression must be a pointer to a complete object type\n",
      "\n",
      "C:/Users/dell/opencv/build/include\\opencv2/stitching/detail/warpers.hpp(235): warning: overloaded virtual function \"cv::detail::PlaneWarper::buildMaps\" is only partially overridden in class \"cv::detail::AffineWarper\"\n",
      "\n",
      "C:/Users/dell/opencv/build/include\\opencv2/stitching/detail/warpers.hpp(235): warning: overloaded virtual function \"cv::detail::PlaneWarper::warp\" is only partially overridden in class \"cv::detail::AffineWarper\"\n",
      "\n",
      "C:/Users/dell/opencv/build/include\\opencv2/stitching/detail/blenders.hpp(100): warning: overloaded virtual function \"cv::detail::Blender::prepare\" is only partially overridden in class \"cv::detail::FeatherBlender\"\n",
      "\n",
      "C:/Users/dell/opencv/build/include\\opencv2/stitching/detail/blenders.hpp(127): warning: overloaded virtual function \"cv::detail::Blender::prepare\" is only partially overridden in class \"cv::detail::MultiBandBlender\"\n",
      "\n",
      "kernel.cu(175): warning: expression must be a pointer to a complete object type\n",
      "\n",
      "kernel.cu(176): warning: expression must be a pointer to a complete object type\n",
      "\n",
      "kernel.cu\n",
      "LINK : fatal error LNK1104: cannot open file 'output.exe'\n"
     ]
    }
   ],
   "source": [
    "\n",
    "! nvcc kernel.cu -o output -I \"C:\\Users\\dell\\opencv\\build\\include\" -L \"C:\\Users\\dell\\opencv\\build\\x64\\vc15\\lib\" -lopencv_world452 -lopencv_world452d"
   ]
  },
  {
   "cell_type": "code",
   "execution_count": 6,
   "metadata": {},
   "outputs": [
    {
     "name": "stdout",
     "output_type": "stream",
     "text": [
      "^C\n"
     ]
    }
   ],
   "source": [
    "! ./output"
   ]
  }
 ],
 "metadata": {
  "kernelspec": {
   "display_name": "rich-text",
   "language": "python",
   "name": "python3"
  },
  "language_info": {
   "codemirror_mode": {
    "name": "ipython",
    "version": 3
   },
   "file_extension": ".py",
   "mimetype": "text/x-python",
   "name": "python",
   "nbconvert_exporter": "python",
   "pygments_lexer": "ipython3",
   "version": "3.11.5"
  }
 },
 "nbformat": 4,
 "nbformat_minor": 2
}
